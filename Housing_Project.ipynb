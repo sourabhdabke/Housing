{
 "cells": [
  {
   "cell_type": "markdown",
   "id": "149b9634",
   "metadata": {},
   "source": [
    "# Problem Statement:"
   ]
  },
  {
   "cell_type": "markdown",
   "id": "08763587",
   "metadata": {},
   "source": [
    "Goal:\n",
    "It is your job to predict the sales price for each house. For each Id in the test set, you must predict the value of the SalePrice variable. \n",
    "\n",
    "Metric:\n",
    "1. Submissions are evaluated on Mean-Absolute-Error (MAE).\n",
    "2. Submission File Format\n",
    "The file should contain a header and have only two colums : Id and predicted SalePrice"
   ]
  },
  {
   "cell_type": "markdown",
   "id": "407e5c69",
   "metadata": {},
   "source": [
    "## Import Dataset"
   ]
  },
  {
   "cell_type": "code",
   "execution_count": 1,
   "id": "db03f100",
   "metadata": {},
   "outputs": [],
   "source": [
    "import pandas as pd\n",
    "A=pd.read_csv('/Users/sourabhdabke/Documents/ETL_Hive/Python/Week_14_Proj2/training_set.csv')"
   ]
  },
  {
   "cell_type": "markdown",
   "id": "eda76145",
   "metadata": {},
   "source": [
    "### Configuring correct display settings"
   ]
  },
  {
   "cell_type": "code",
   "execution_count": 2,
   "id": "e56a5bc2",
   "metadata": {},
   "outputs": [],
   "source": [
    "from warnings import filterwarnings\n",
    "filterwarnings('ignore')\n",
    "pd.set_option('display.max_rows',81)\n",
    "pd.set_option('display.max_columns',811)"
   ]
  },
  {
   "cell_type": "markdown",
   "id": "ad2348bf",
   "metadata": {},
   "source": [
    "## Missing Data Treatment\n",
    "### Here all the missing string values are substituted with their corresponding given states in the problem statement. For eg. 'na' in Alley is not actually a value not present but rather 'No Alley access'"
   ]
  },
  {
   "cell_type": "code",
   "execution_count": 3,
   "id": "894abdd0",
   "metadata": {},
   "outputs": [],
   "source": [
    "A[['Alley']]=A[['Alley']].fillna('No alley access')\n",
    "A[['BsmtQual','BsmtCond','BsmtExposure',\n",
    "   'BsmtFinType1','BsmtFinType2']]=A[['BsmtQual','BsmtCond',\n",
    "                                      'BsmtExposure','BsmtFinType1','BsmtFinType2']].fillna('No Basement')\n",
    "A[['FireplaceQu']]=A[['FireplaceQu']].fillna('No Fireplace')\n",
    "A[['GarageType','GarageYrBlt',\n",
    "   'GarageFinish','GarageQual',\n",
    "   'GarageCond']]=A[['GarageType','GarageYrBlt','GarageFinish','GarageQual','GarageCond']].fillna('No Garage')\n",
    "A[['PoolQC']]=A[['PoolQC']].fillna('No Pool')\n",
    "A[['Fence']]=A[['Fence']].fillna('No Fence')\n",
    "A[['MiscFeature']]=A[['MiscFeature']].fillna('None')"
   ]
  },
  {
   "cell_type": "code",
   "execution_count": 4,
   "id": "911951a7",
   "metadata": {},
   "outputs": [],
   "source": [
    "for i in A.columns:\n",
    "    if A[i].dtype=='object':\n",
    "        x=A[i].mode()[0]\n",
    "        A[i]=A[i].fillna(x)\n",
    "    else:\n",
    "        x=A[i].mean()\n",
    "        A[i]=A[i].fillna(x)"
   ]
  },
  {
   "cell_type": "markdown",
   "id": "f0470c99",
   "metadata": {},
   "source": [
    "## Getting data in standard format by eliminating skewness"
   ]
  },
  {
   "cell_type": "code",
   "execution_count": 5,
   "id": "46a247e9",
   "metadata": {},
   "outputs": [],
   "source": [
    "Q = A.skew()\n",
    "col_with_skew = list(Q[Q>2].index)"
   ]
  },
  {
   "cell_type": "code",
   "execution_count": 6,
   "id": "e2ef9000",
   "metadata": {},
   "outputs": [],
   "source": [
    "import numpy as np\n",
    "from numpy import log\n",
    "\n",
    "for j in col_with_skew:\n",
    "    W = []\n",
    "    for i in A[j]:\n",
    "        if (i != 0):\n",
    "            W.append(log(i))\n",
    "        else:\n",
    "            W.append(0)\n",
    "    A[j] = W"
   ]
  },
  {
   "cell_type": "code",
   "execution_count": 7,
   "id": "9191430a",
   "metadata": {},
   "outputs": [],
   "source": [
    "cat = []\n",
    "con = []\n",
    "\n",
    "for i in A.columns:\n",
    "    if A[i].dtypes == 'object':\n",
    "        cat.append(i)\n",
    "    else:\n",
    "        con.append(i)"
   ]
  },
  {
   "cell_type": "markdown",
   "id": "50cdb549",
   "metadata": {},
   "source": [
    "## Exploratory Data Analysis"
   ]
  },
  {
   "cell_type": "markdown",
   "id": "abea18f8",
   "metadata": {},
   "source": [
    "### Defining ANOVA to find important categorical columns"
   ]
  },
  {
   "cell_type": "code",
   "execution_count": 8,
   "id": "ca0a6f8a",
   "metadata": {},
   "outputs": [],
   "source": [
    "def ANOVA(df,cat,con):\n",
    "    from statsmodels.formula.api import ols\n",
    "    relation = con + \" ~ \" + cat\n",
    "    model = ols(relation,df).fit()\n",
    "    from statsmodels.stats.anova import anova_lm\n",
    "    anova_results = anova_lm(model)\n",
    "    return round(anova_results.iloc[0,4],4)"
   ]
  },
  {
   "cell_type": "markdown",
   "id": "856b39a4",
   "metadata": {},
   "source": [
    "### Using ANOVA to calculate important categorical columns"
   ]
  },
  {
   "cell_type": "code",
   "execution_count": 9,
   "id": "2c51747c",
   "metadata": {
    "scrolled": true
   },
   "outputs": [
    {
     "name": "stdout",
     "output_type": "stream",
     "text": [
      "-----------\n",
      "SalePrice v/s MSZoning\n",
      "0.0\n",
      "-----------\n",
      "SalePrice v/s Street\n",
      "0.117\n",
      "-----------\n",
      "SalePrice v/s Alley\n",
      "0.0\n",
      "-----------\n",
      "SalePrice v/s LotShape\n",
      "0.0\n",
      "-----------\n",
      "SalePrice v/s LandContour\n",
      "0.0\n",
      "-----------\n",
      "SalePrice v/s Utilities\n",
      "0.5847\n",
      "-----------\n",
      "SalePrice v/s LotConfig\n",
      "0.0\n",
      "-----------\n",
      "SalePrice v/s LandSlope\n",
      "0.1414\n",
      "-----------\n",
      "SalePrice v/s Neighborhood\n",
      "0.0\n",
      "-----------\n",
      "SalePrice v/s Condition1\n",
      "0.0\n",
      "-----------\n",
      "SalePrice v/s Condition2\n",
      "0.0434\n",
      "-----------\n",
      "SalePrice v/s BldgType\n",
      "0.0\n",
      "-----------\n",
      "SalePrice v/s HouseStyle\n",
      "0.0\n",
      "-----------\n",
      "SalePrice v/s RoofStyle\n",
      "0.0\n",
      "-----------\n",
      "SalePrice v/s RoofMatl\n",
      "0.0\n",
      "-----------\n",
      "SalePrice v/s Exterior1st\n",
      "0.0\n",
      "-----------\n",
      "SalePrice v/s Exterior2nd\n",
      "0.0\n",
      "-----------\n",
      "SalePrice v/s MasVnrType\n",
      "0.0\n",
      "-----------\n",
      "SalePrice v/s ExterQual\n",
      "0.0\n",
      "-----------\n",
      "SalePrice v/s ExterCond\n",
      "0.0\n",
      "-----------\n",
      "SalePrice v/s Foundation\n",
      "0.0\n",
      "-----------\n",
      "SalePrice v/s BsmtQual\n",
      "0.0\n",
      "-----------\n",
      "SalePrice v/s BsmtCond\n",
      "0.0\n",
      "-----------\n",
      "SalePrice v/s BsmtExposure\n",
      "0.0\n",
      "-----------\n",
      "SalePrice v/s BsmtFinType1\n",
      "0.0\n",
      "-----------\n",
      "SalePrice v/s BsmtFinType2\n",
      "0.0\n",
      "-----------\n",
      "SalePrice v/s Heating\n",
      "0.0008\n",
      "-----------\n",
      "SalePrice v/s HeatingQC\n",
      "0.0\n",
      "-----------\n",
      "SalePrice v/s CentralAir\n",
      "0.0\n",
      "-----------\n",
      "SalePrice v/s Electrical\n",
      "0.0\n",
      "-----------\n",
      "SalePrice v/s KitchenQual\n",
      "0.0\n",
      "-----------\n",
      "SalePrice v/s Functional\n",
      "0.0005\n",
      "-----------\n",
      "SalePrice v/s FireplaceQu\n",
      "0.0\n",
      "-----------\n",
      "SalePrice v/s GarageType\n",
      "0.0\n",
      "-----------\n",
      "SalePrice v/s GarageYrBlt\n",
      "0.0\n",
      "-----------\n",
      "SalePrice v/s GarageFinish\n",
      "0.0\n",
      "-----------\n",
      "SalePrice v/s GarageQual\n",
      "0.0\n",
      "-----------\n",
      "SalePrice v/s GarageCond\n",
      "0.0\n",
      "-----------\n",
      "SalePrice v/s PavedDrive\n",
      "0.0\n",
      "-----------\n",
      "SalePrice v/s PoolQC\n",
      "0.0\n",
      "-----------\n",
      "SalePrice v/s Fence\n",
      "0.0\n",
      "-----------\n",
      "SalePrice v/s MiscFeature\n",
      "0.035\n",
      "-----------\n",
      "SalePrice v/s SaleType\n",
      "0.0\n",
      "-----------\n",
      "SalePrice v/s SaleCondition\n",
      "0.0\n"
     ]
    }
   ],
   "source": [
    "from batch6pm import ANOVA\n",
    "\n",
    "imp_cat_col = []\n",
    "Q = list(cat)\n",
    "for i in Q:\n",
    "    print('-----------')\n",
    "    print('SalePrice v/s',i)\n",
    "    W = ANOVA(A,i,'SalePrice')\n",
    "    print(W)\n",
    "    if(W<0.05):\n",
    "        imp_cat_col.append(i)\n"
   ]
  },
  {
   "cell_type": "markdown",
   "id": "07658394",
   "metadata": {},
   "source": [
    "## Using correlation to calculate important continuous columns"
   ]
  },
  {
   "cell_type": "code",
   "execution_count": 10,
   "id": "6929fe8e",
   "metadata": {},
   "outputs": [
    {
     "data": {
      "text/plain": [
       "Index(['OverallQual', 'YearBuilt', 'YearRemodAdd', 'MasVnrArea', 'TotalBsmtSF',\n",
       "       '1stFlrSF', 'GrLivArea', 'FullBath', 'TotRmsAbvGrd', 'Fireplaces',\n",
       "       'GarageCars', 'GarageArea', 'OpenPorchSF'],\n",
       "      dtype='object')"
      ]
     },
     "execution_count": 10,
     "metadata": {},
     "output_type": "execute_result"
    }
   ],
   "source": [
    "q = A[con].corr()['SalePrice']\n",
    "imp_con_col = q[(q<1)&(q>0.4)].index\n",
    "imp_con_col"
   ]
  },
  {
   "cell_type": "code",
   "execution_count": 11,
   "id": "b4f5bee8",
   "metadata": {},
   "outputs": [],
   "source": [
    "Anew = A[imp_con_col].join(A[imp_cat_col])"
   ]
  },
  {
   "cell_type": "markdown",
   "id": "a3f0b0e9",
   "metadata": {},
   "source": [
    "## Preprocessing and getting data ready for back propogation"
   ]
  },
  {
   "cell_type": "code",
   "execution_count": 12,
   "id": "2bdb1c78",
   "metadata": {},
   "outputs": [],
   "source": [
    "cat = []\n",
    "con = []\n",
    "\n",
    "for i in Anew.columns:\n",
    "    if Anew[i].dtypes == 'object':\n",
    "        cat.append(i)\n",
    "    else:\n",
    "        con.append(i)"
   ]
  },
  {
   "cell_type": "code",
   "execution_count": 13,
   "id": "aa8bb005",
   "metadata": {},
   "outputs": [],
   "source": [
    "X1 = pd.get_dummies(Anew[cat])\n",
    "\n",
    "from sklearn.preprocessing import StandardScaler\n",
    "ss = StandardScaler()\n",
    "\n",
    "X2 = pd.DataFrame(ss.fit_transform(Anew[con]),columns=con)\n",
    "\n",
    "Xnew = X2.join(X1)\n"
   ]
  },
  {
   "cell_type": "markdown",
   "id": "7e3311a2",
   "metadata": {},
   "source": [
    "## Define Y"
   ]
  },
  {
   "cell_type": "code",
   "execution_count": 14,
   "id": "8ad4dcbf",
   "metadata": {},
   "outputs": [
    {
     "data": {
      "text/plain": [
       "(1460, 1)"
      ]
     },
     "execution_count": 14,
     "metadata": {},
     "output_type": "execute_result"
    }
   ],
   "source": [
    "Y = A[['SalePrice']]\n",
    "Y.shape"
   ]
  },
  {
   "cell_type": "markdown",
   "id": "6d4e0fff",
   "metadata": {},
   "source": [
    "## Create Backward Elimination Model"
   ]
  },
  {
   "cell_type": "code",
   "execution_count": 15,
   "id": "56189a47",
   "metadata": {},
   "outputs": [
    {
     "data": {
      "text/plain": [
       "0.9182619677985082"
      ]
     },
     "execution_count": 15,
     "metadata": {},
     "output_type": "execute_result"
    }
   ],
   "source": [
    "from sklearn.model_selection import train_test_split\n",
    "xtrain,xtest,ytrain,ytest = train_test_split(Xnew,Y,test_size=0.2,random_state=21)\n",
    "\n",
    "from statsmodels.api import OLS,add_constant\n",
    "xconst = add_constant(xtrain)\n",
    "\n",
    "ols = OLS(ytrain,xconst)\n",
    "\n",
    "model = ols.fit()\n",
    "model.rsquared_adj"
   ]
  },
  {
   "cell_type": "code",
   "execution_count": 16,
   "id": "3b3c8009",
   "metadata": {},
   "outputs": [
    {
     "data": {
      "text/plain": [
       "'RoofStyle_Hip'"
      ]
     },
     "execution_count": 16,
     "metadata": {},
     "output_type": "execute_result"
    }
   ],
   "source": [
    "p = model.pvalues\n",
    "q = model.pvalues.max()\n",
    "\n",
    "col_to_drop = list(p[p == q].index)[0]\n",
    "col_to_drop"
   ]
  },
  {
   "cell_type": "markdown",
   "id": "2ce8289f",
   "metadata": {},
   "source": [
    "### First model with 'RoofStyle_Hip' removed"
   ]
  },
  {
   "cell_type": "code",
   "execution_count": 17,
   "id": "02acf1f0",
   "metadata": {},
   "outputs": [
    {
     "name": "stdout",
     "output_type": "stream",
     "text": [
      "RoofStyle_Hip\n"
     ]
    },
    {
     "data": {
      "text/plain": [
       "0.9182619677985082"
      ]
     },
     "execution_count": 17,
     "metadata": {},
     "output_type": "execute_result"
    }
   ],
   "source": [
    "p = model.pvalues\n",
    "q = model.pvalues.max()\n",
    "\n",
    "col_to_drop = list(p[p==q].index)[0]\n",
    "print(col_to_drop)\n",
    "Xnew = Xnew.drop(labels=col_to_drop,axis=1)\n",
    "from sklearn.model_selection import train_test_split\n",
    "xtrain,xtest,ytrain,ytest = train_test_split(Xnew,Y,test_size=0.2,random_state=21)\n",
    "\n",
    "from statsmodels.api import OLS,add_constant\n",
    "xconst = add_constant(xtrain)\n",
    "\n",
    "ols = OLS(ytrain,xconst)\n",
    "\n",
    "model = ols.fit()\n",
    "model.rsquared_adj\n"
   ]
  },
  {
   "cell_type": "markdown",
   "id": "04fe05f4",
   "metadata": {},
   "source": [
    "### Created successive models removing more irrelevant columns till 'rsquared_adj' is maximum"
   ]
  },
  {
   "cell_type": "code",
   "execution_count": 211,
   "id": "87d1f93d",
   "metadata": {},
   "outputs": [
    {
     "name": "stdout",
     "output_type": "stream",
     "text": [
      "GarageYrBlt_1984.0\n"
     ]
    },
    {
     "data": {
      "text/plain": [
       "0.9280063724965251"
      ]
     },
     "execution_count": 211,
     "metadata": {},
     "output_type": "execute_result"
    }
   ],
   "source": [
    "p = model.pvalues\n",
    "q = model.pvalues.max()\n",
    "\n",
    "col_to_drop = list(p[p==q].index)[0]\n",
    "print(col_to_drop)\n",
    "Xnew = Xnew.drop(labels=col_to_drop,axis=1)\n",
    "from sklearn.model_selection import train_test_split\n",
    "xtrain,xtest,ytrain,ytest = train_test_split(Xnew,Y,test_size=0.2,random_state=21)\n",
    "\n",
    "from statsmodels.api import OLS,add_constant\n",
    "xconst = add_constant(xtrain)\n",
    "\n",
    "ols = OLS(ytrain,xconst)\n",
    "\n",
    "model = ols.fit()\n",
    "model.rsquared_adj\n"
   ]
  },
  {
   "cell_type": "markdown",
   "id": "7441c0bb",
   "metadata": {},
   "source": [
    "### So the best model with maximum explained variance is 92.8 % with 175 columns "
   ]
  },
  {
   "cell_type": "markdown",
   "id": "82d4847a",
   "metadata": {},
   "source": [
    "## Creating Prediction Based on testing data"
   ]
  },
  {
   "cell_type": "markdown",
   "id": "fbfb0096",
   "metadata": {},
   "source": [
    "#### Reading testing dataset"
   ]
  },
  {
   "cell_type": "code",
   "execution_count": 328,
   "id": "eefd954d",
   "metadata": {},
   "outputs": [],
   "source": [
    "B = pd.read_csv('/Users/sourabhdabke/Documents/ETL_Hive/Python/Week_14_Proj2/testing_set.csv')"
   ]
  },
  {
   "cell_type": "markdown",
   "id": "2ddfb010",
   "metadata": {},
   "source": [
    "#### Missing data treatment"
   ]
  },
  {
   "cell_type": "code",
   "execution_count": 329,
   "id": "d72e0d02",
   "metadata": {},
   "outputs": [],
   "source": [
    "B[['Alley']]=A[['Alley']].fillna('No alley access')\n",
    "B[['BsmtQual','BsmtCond','BsmtExposure',\n",
    "   'BsmtFinType1','BsmtFinType2']]=B[['BsmtQual','BsmtCond',\n",
    "                                      'BsmtExposure','BsmtFinType1','BsmtFinType2']].fillna('No Basement')\n",
    "B[['FireplaceQu']]=B[['FireplaceQu']].fillna('No Fireplace')\n",
    "B[['GarageType','GarageYrBlt',\n",
    "   'GarageFinish','GarageQual',\n",
    "   'GarageCond']]=B[['GarageType','GarageYrBlt','GarageFinish','GarageQual','GarageCond']].fillna('No Garage')\n",
    "B[['PoolQC']]=B[['PoolQC']].fillna('No Pool')\n",
    "B[['Fence']]=B[['Fence']].fillna('No Fence')\n",
    "B[['MiscFeature']]=B[['MiscFeature']].fillna('None')"
   ]
  },
  {
   "cell_type": "code",
   "execution_count": 330,
   "id": "82370f84",
   "metadata": {},
   "outputs": [],
   "source": [
    "B1 = B.drop(labels=['Id'],axis = 1)\n",
    "\n",
    "for i in B1.columns:\n",
    "    if B1[i].dtype=='object':\n",
    "        x=B1[i].mode()[0]\n",
    "        B1[i]=B1[i].fillna(x)\n",
    "    else:\n",
    "        x=B1[i].mean()\n",
    "        B1[i]=B1[i].fillna(x)\n",
    "\n",
    "cat = []\n",
    "con = []\n",
    "\n",
    "for i in B1.columns:\n",
    "    if B1[i].dtypes == 'object':\n",
    "        cat.append(i)\n",
    "    else:\n",
    "        con.append(i)\n",
    "X1 = pd.get_dummies(B1[cat])\n",
    "\n",
    "from sklearn.preprocessing import StandardScaler\n",
    "ss = StandardScaler()\n",
    "\n",
    "X2 = pd.DataFrame(ss.fit_transform(B1[con]),columns=con)\n",
    "\n",
    "tsd = X2.join(X1)"
   ]
  },
  {
   "cell_type": "markdown",
   "id": "cb7db335",
   "metadata": {},
   "source": [
    "### Choosing test data colums from the same number of columns we got from backward elimination model. If columns are missing then adding them and setting their values to zero"
   ]
  },
  {
   "cell_type": "code",
   "execution_count": 331,
   "id": "b6e93bae",
   "metadata": {},
   "outputs": [],
   "source": [
    "Q = list(Xnew.columns)"
   ]
  },
  {
   "cell_type": "code",
   "execution_count": 332,
   "id": "84d20279",
   "metadata": {},
   "outputs": [],
   "source": [
    "#tsd[Q]"
   ]
  },
  {
   "cell_type": "raw",
   "id": "2e30c437",
   "metadata": {},
   "source": [
    "Missing columns from testing data are : ['Condition2_RRAe', 'Condition2_RRNn', 'HouseStyle_2.5Fin', \n",
    "                                         'RoofMatl_ClyTile', 'RoofMatl_Membran', 'RoofMatl_Metal', \n",
    "                                         'RoofMatl_Roll', 'Heating_OthW', 'GarageYrBlt_1908.0', \n",
    "                                         'GarageYrBlt_1914.0', 'GarageQual_Ex', 'PoolQC_Fa', 'MiscFeature_TenC'] "
   ]
  },
  {
   "cell_type": "code",
   "execution_count": 333,
   "id": "4ea757c9",
   "metadata": {},
   "outputs": [],
   "source": [
    "for i in ['Condition2_RRAe', 'Condition2_RRNn', 'HouseStyle_2.5Fin',\n",
    "          'RoofMatl_ClyTile', 'RoofMatl_Membran', 'RoofMatl_Metal',\n",
    "          'RoofMatl_Roll', 'Heating_OthW', 'GarageYrBlt_1908.0',\n",
    "          'GarageYrBlt_1914.0', 'GarageQual_Ex', 'PoolQC_Fa', 'MiscFeature_TenC']:\n",
    "    tsd[i]=0"
   ]
  },
  {
   "cell_type": "code",
   "execution_count": 334,
   "id": "dc044136",
   "metadata": {},
   "outputs": [],
   "source": [
    "final = tsd[Q]"
   ]
  },
  {
   "cell_type": "markdown",
   "id": "83d4fc50",
   "metadata": {},
   "source": [
    "### Testing data has one less row, so adding a null row for prediction"
   ]
  },
  {
   "cell_type": "code",
   "execution_count": 335,
   "id": "c9867de3",
   "metadata": {},
   "outputs": [],
   "source": [
    "q = []\n",
    "for i in range(final.shape[1]):\n",
    "    q.append(0)\n",
    "q = pd.DataFrame(q).T\n",
    "q.index = range(final.shape[0],(final.shape[0]+1))\n",
    "q.columns = final.columns\n",
    "final = final.append(q)"
   ]
  },
  {
   "cell_type": "code",
   "execution_count": 336,
   "id": "9adb725c",
   "metadata": {},
   "outputs": [
    {
     "data": {
      "text/plain": [
       "(1460, 175)"
      ]
     },
     "execution_count": 336,
     "metadata": {},
     "output_type": "execute_result"
    }
   ],
   "source": [
    "final.shape"
   ]
  },
  {
   "cell_type": "code",
   "execution_count": 337,
   "id": "c988f796",
   "metadata": {},
   "outputs": [
    {
     "data": {
      "text/plain": [
       "[54800.19106473295, 56021.951023122005]"
      ]
     },
     "execution_count": 337,
     "metadata": {},
     "output_type": "execute_result"
    }
   ],
   "source": [
    "from sklearn.model_selection import train_test_split\n",
    "xtrain,xtest,ytrain,ytest = train_test_split(final,Y,test_size=.2,random_state=21)\n",
    "from sklearn.linear_model import LinearRegression\n",
    "lr = LinearRegression()\n",
    "\n",
    "model = lr.fit(final,Y)\n",
    "tr_pred = model.predict(xtrain)\n",
    "ts_pred = model.predict(xtest)\n",
    "\n",
    "from sklearn.metrics import mean_absolute_error\n",
    "bias = mean_absolute_error(ytrain,tr_pred)\n",
    "var = mean_absolute_error(ytest,ts_pred)\n",
    "list([bias,var])\n"
   ]
  },
  {
   "cell_type": "markdown",
   "id": "2d1eee90",
   "metadata": {},
   "source": [
    "## Using Ridge and Lasso regression techniques to further reduce the error"
   ]
  },
  {
   "cell_type": "markdown",
   "id": "ab20eec7",
   "metadata": {},
   "source": [
    "### Tuning Grid"
   ]
  },
  {
   "cell_type": "code",
   "execution_count": 338,
   "id": "b19a80ae",
   "metadata": {},
   "outputs": [],
   "source": [
    "val_to_try = []\n",
    "x=1\n",
    "for i in range(0,50):\n",
    "    x = x + 0.001\n",
    "    val_to_try.append(round(x,3))\n",
    "x=1\n",
    "for i in range(0,50):\n",
    "    x = x - 0.001\n",
    "    val_to_try.append(round(x,3))\n",
    "    \n",
    "tuning_grid = {'alpha':val_to_try}"
   ]
  },
  {
   "cell_type": "markdown",
   "id": "8e1df218",
   "metadata": {},
   "source": [
    "# Ridge"
   ]
  },
  {
   "cell_type": "code",
   "execution_count": 339,
   "id": "726f2f85",
   "metadata": {},
   "outputs": [
    {
     "data": {
      "text/plain": [
       "{'alpha': 1.05}"
      ]
     },
     "execution_count": 339,
     "metadata": {},
     "output_type": "execute_result"
    }
   ],
   "source": [
    "from sklearn.linear_model import Ridge\n",
    "rr = Ridge()\n",
    "\n",
    "from sklearn.model_selection import GridSearchCV\n",
    "cv = GridSearchCV(rr,tuning_grid,scoring='neg_mean_absolute_error',cv = 4)\n",
    "\n",
    "cvmodel = cv.fit(xtrain,ytrain)\n",
    "cvmodel.best_params_"
   ]
  },
  {
   "cell_type": "markdown",
   "id": "6aa0d3ad",
   "metadata": {},
   "source": [
    "# Lasso"
   ]
  },
  {
   "cell_type": "code",
   "execution_count": 340,
   "id": "1a0dfd98",
   "metadata": {},
   "outputs": [
    {
     "data": {
      "text/plain": [
       "{'alpha': 1.05}"
      ]
     },
     "execution_count": 340,
     "metadata": {},
     "output_type": "execute_result"
    }
   ],
   "source": [
    "from sklearn.linear_model import Lasso\n",
    "lr = Lasso()\n",
    "\n",
    "cv = GridSearchCV(lr,tuning_grid,scoring='neg_mean_absolute_error',cv=4)\n",
    "\n",
    "cvmodel = cv.fit(xtrain,ytrain)\n",
    "cvmodel.best_params_"
   ]
  },
  {
   "cell_type": "markdown",
   "id": "df2ba333",
   "metadata": {},
   "source": [
    "# Lasso Model"
   ]
  },
  {
   "cell_type": "code",
   "execution_count": 348,
   "id": "55f098f2",
   "metadata": {},
   "outputs": [
    {
     "data": {
      "text/plain": [
       "[53911.26733018525, 63610.805455874885]"
      ]
     },
     "execution_count": 348,
     "metadata": {},
     "output_type": "execute_result"
    }
   ],
   "source": [
    "lr = Lasso(alpha=1.05)\n",
    "\n",
    "model = lr.fit(xtrain,ytrain)\n",
    "\n",
    "pred_tr = model.predict(xtrain)\n",
    "pred_ts = model.predict(xtest)\n",
    "\n",
    "from sklearn.metrics import mean_absolute_error\n",
    "bias = mean_absolute_error(ytrain,pred_tr)\n",
    "var = mean_absolute_error(ytest,pred_ts)\n",
    "\n",
    "list([bias,var])"
   ]
  },
  {
   "cell_type": "markdown",
   "id": "cebeb5b8",
   "metadata": {},
   "source": [
    "# Ridge Model"
   ]
  },
  {
   "cell_type": "code",
   "execution_count": 343,
   "id": "2c596a2b",
   "metadata": {},
   "outputs": [
    {
     "data": {
      "text/plain": [
       "[54190.729326854074, 62553.71107936068]"
      ]
     },
     "execution_count": 343,
     "metadata": {},
     "output_type": "execute_result"
    }
   ],
   "source": [
    "rr = Ridge(alpha=1.05)\n",
    "\n",
    "model = rr.fit(xtrain,ytrain)\n",
    "\n",
    "pred_tr = model.predict(xtrain)\n",
    "pred_ts = model.predict(xtest)\n",
    "\n",
    "from sklearn.metrics import mean_absolute_error\n",
    "bias = mean_absolute_error(ytrain,pred_tr)\n",
    "var = mean_absolute_error(ytest,pred_ts)\n",
    "\n",
    "list([bias,var])"
   ]
  },
  {
   "cell_type": "markdown",
   "id": "bd43f74f",
   "metadata": {},
   "source": [
    "# Best is Lasso Model so created predictions based on the same"
   ]
  },
  {
   "cell_type": "code",
   "execution_count": 344,
   "id": "3e4f19b5",
   "metadata": {},
   "outputs": [],
   "source": [
    "T = B[['Id']]"
   ]
  },
  {
   "cell_type": "code",
   "execution_count": 356,
   "id": "e6f22b17",
   "metadata": {},
   "outputs": [],
   "source": [
    "pred = model.predict(final)\n",
    "pred = pred[0:1459]"
   ]
  },
  {
   "cell_type": "code",
   "execution_count": 357,
   "id": "c3cdd216",
   "metadata": {},
   "outputs": [],
   "source": [
    "T['Predicted'] = pred"
   ]
  },
  {
   "cell_type": "code",
   "execution_count": 358,
   "id": "e4173ffa",
   "metadata": {},
   "outputs": [
    {
     "data": {
      "text/html": [
       "<div>\n",
       "<style scoped>\n",
       "    .dataframe tbody tr th:only-of-type {\n",
       "        vertical-align: middle;\n",
       "    }\n",
       "\n",
       "    .dataframe tbody tr th {\n",
       "        vertical-align: top;\n",
       "    }\n",
       "\n",
       "    .dataframe thead th {\n",
       "        text-align: right;\n",
       "    }\n",
       "</style>\n",
       "<table border=\"1\" class=\"dataframe\">\n",
       "  <thead>\n",
       "    <tr style=\"text-align: right;\">\n",
       "      <th></th>\n",
       "      <th>Id</th>\n",
       "      <th>Predicted</th>\n",
       "    </tr>\n",
       "  </thead>\n",
       "  <tbody>\n",
       "    <tr>\n",
       "      <th>0</th>\n",
       "      <td>1461</td>\n",
       "      <td>199509.185272</td>\n",
       "    </tr>\n",
       "    <tr>\n",
       "      <th>1</th>\n",
       "      <td>1462</td>\n",
       "      <td>166516.322965</td>\n",
       "    </tr>\n",
       "    <tr>\n",
       "      <th>2</th>\n",
       "      <td>1463</td>\n",
       "      <td>187618.638729</td>\n",
       "    </tr>\n",
       "    <tr>\n",
       "      <th>3</th>\n",
       "      <td>1464</td>\n",
       "      <td>173607.816714</td>\n",
       "    </tr>\n",
       "    <tr>\n",
       "      <th>4</th>\n",
       "      <td>1465</td>\n",
       "      <td>225603.053280</td>\n",
       "    </tr>\n",
       "    <tr>\n",
       "      <th>...</th>\n",
       "      <td>...</td>\n",
       "      <td>...</td>\n",
       "    </tr>\n",
       "    <tr>\n",
       "      <th>1454</th>\n",
       "      <td>2915</td>\n",
       "      <td>170532.294209</td>\n",
       "    </tr>\n",
       "    <tr>\n",
       "      <th>1455</th>\n",
       "      <td>2916</td>\n",
       "      <td>185063.290709</td>\n",
       "    </tr>\n",
       "    <tr>\n",
       "      <th>1456</th>\n",
       "      <td>2917</td>\n",
       "      <td>200980.450370</td>\n",
       "    </tr>\n",
       "    <tr>\n",
       "      <th>1457</th>\n",
       "      <td>2918</td>\n",
       "      <td>142431.011891</td>\n",
       "    </tr>\n",
       "    <tr>\n",
       "      <th>1458</th>\n",
       "      <td>2919</td>\n",
       "      <td>201029.315688</td>\n",
       "    </tr>\n",
       "  </tbody>\n",
       "</table>\n",
       "<p>1459 rows × 2 columns</p>\n",
       "</div>"
      ],
      "text/plain": [
       "        Id      Predicted\n",
       "0     1461  199509.185272\n",
       "1     1462  166516.322965\n",
       "2     1463  187618.638729\n",
       "3     1464  173607.816714\n",
       "4     1465  225603.053280\n",
       "...    ...            ...\n",
       "1454  2915  170532.294209\n",
       "1455  2916  185063.290709\n",
       "1456  2917  200980.450370\n",
       "1457  2918  142431.011891\n",
       "1458  2919  201029.315688\n",
       "\n",
       "[1459 rows x 2 columns]"
      ]
     },
     "execution_count": 358,
     "metadata": {},
     "output_type": "execute_result"
    }
   ],
   "source": [
    "T"
   ]
  },
  {
   "cell_type": "code",
   "execution_count": 359,
   "id": "48cd2c21",
   "metadata": {},
   "outputs": [],
   "source": [
    "T.to_csv('/Users/sourabhdabke/Desktop/Housing_submission.csv',index=None)"
   ]
  }
 ],
 "metadata": {
  "kernelspec": {
   "display_name": "Python 3 (ipykernel)",
   "language": "python",
   "name": "python3"
  },
  "language_info": {
   "codemirror_mode": {
    "name": "ipython",
    "version": 3
   },
   "file_extension": ".py",
   "mimetype": "text/x-python",
   "name": "python",
   "nbconvert_exporter": "python",
   "pygments_lexer": "ipython3",
   "version": "3.9.13"
  }
 },
 "nbformat": 4,
 "nbformat_minor": 5
}
